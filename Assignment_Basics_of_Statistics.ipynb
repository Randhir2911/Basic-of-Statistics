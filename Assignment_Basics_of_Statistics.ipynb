{
  "nbformat": 4,
  "nbformat_minor": 0,
  "metadata": {
    "colab": {
      "provenance": [],
      "authorship_tag": "ABX9TyOLBtUbk/XCi7IKQBnfFCIe",
      "include_colab_link": true
    },
    "kernelspec": {
      "name": "python3",
      "display_name": "Python 3"
    },
    "language_info": {
      "name": "python"
    }
  },
  "cells": [
    {
      "cell_type": "markdown",
      "metadata": {
        "id": "view-in-github",
        "colab_type": "text"
      },
      "source": [
        "<a href=\"https://colab.research.google.com/github/PritamKhan/CODSOFT/blob/master/Assignment_Basics_of_Statistics.ipynb\" target=\"_parent\"><img src=\"https://colab.research.google.com/assets/colab-badge.svg\" alt=\"Open In Colab\"/></a>"
      ]
    },
    {
      "cell_type": "markdown",
      "source": [
        "### Assignment Questions:\n",
        "\n",
        "**1. Explain the different types of data (qualitative and quantitative) and provide examples of each. Discuss nominal, ordinal, interval, and ratio scales.**  \n",
        "- **Qualitative Data**: Descriptive, non-numeric.  \n",
        "  - *Nominal*: Categories with no order (e.g., colors, gender).  \n",
        "  - *Ordinal*: Categories with a logical order (e.g., survey ratings: good, fair, poor).  \n",
        "- **Quantitative Data**: Numeric, measurable.  \n",
        "  - *Interval*: Numeric, equal intervals, no true zero (e.g., temperature in °C).  \n",
        "  - *Ratio*: Numeric with a true zero (e.g., weight, height, age).\n",
        "\n",
        "\n",
        "\n",
        "**2. What are the measures of central tendency, and when should you use each? Discuss the mean, median, and mode with examples and situations where each is appropriate.**  \n",
        "- **Mean**: Average; use when data is symmetric without outliers.  \n",
        "- **Median**: Middle value; best for skewed data or outliers.  \n",
        "- **Mode**: Most frequent value; use with categorical or discrete data.  \n",
        "*Example*: In {1, 2, 2, 3, 100}, median = 2, mean = 21.6 (misleading due to outlier).\n",
        "\n",
        "\n",
        "\n",
        "**3. Explain the concept of dispersion. How do variance and standard deviation measure the spread of data?**  \n",
        "- **Dispersion**: Measures how data is spread.  \n",
        "- **Variance**: Average of squared differences from mean.  \n",
        "- **Standard Deviation**: Square root of variance; shows average distance from mean.\n",
        "\n",
        "\n",
        "\n",
        "**4. What is a box plot, and what can it tell you about the distribution of data?**  \n",
        "A **box plot** visualizes the five-number summary: minimum, Q1, median, Q3, and maximum.  \n",
        "It shows **spread**, **center**, **skewness**, and **outliers**.\n",
        "\n",
        "\n",
        "\n",
        "**5. Discuss the role of random sampling in making inferences about populations.**  \n",
        "**Random sampling** ensures every individual has an equal chance of selection.  \n",
        "It helps reduce bias and makes **accurate generalizations** about the population.\n",
        "\n",
        "\n",
        "\n",
        "**6. Explain the concept of skewness and its types. How does skewness affect the interpretation of data?**  \n",
        "- **Skewness**: Measures asymmetry in data.  \n",
        "  - *Positive Skew*: Tail on right; mean > median.  \n",
        "  - *Negative Skew*: Tail on left; mean < median.  \n",
        "Skewness affects the **central tendency** and **shape interpretation**.\n",
        "\n",
        "\n",
        "\n",
        "**7. What is the interquartile range (IQR), and how is it used to detect outliers?**  \n",
        "- **IQR** = Q3 − Q1; shows the range of middle 50% of data.  \n",
        "- **Outliers**: Data points < Q1 − 1.5×IQR or > Q3 + 1.5×IQR.\n",
        "\n",
        "\n",
        "\n",
        "**8. Discuss the conditions under which the binomial distribution is used.**  \n",
        "Used when:  \n",
        "1. Fixed number of trials  \n",
        "2. Two outcomes (success/failure)  \n",
        "3. Constant probability  \n",
        "4. Independent trials  \n",
        "*Example*: Flipping a coin 5 times.\n",
        "\n",
        "\n",
        "\n",
        "\n",
        "**9. Explain the properties of the normal distribution and the empirical rule (68-95-99.7 rule).**  \n",
        "- Bell-shaped, symmetric curve.  \n",
        "- Mean = Median = Mode.  \n",
        "- **Empirical Rule**:  \n",
        "  - 68% data within 1 SD  \n",
        "  - 95% within 2 SD  \n",
        "  - 99.7% within 3 SD  \n",
        "*Example*: Heights or test scores.\n",
        "\n",
        "\n",
        "\n",
        "**10. Provide a real-life example of a Poisson process and calculate the probability for a specific event.**  \n",
        "*Example*: Average 4 customer calls per hour.  \n",
        "Find probability of 2 calls in one hour:  \n",
        "P(X=2) = (4² × e⁻⁴) / 2! = (16 × 0.0183)/2 ≈ **0.1465**\n",
        "\n",
        "\n",
        "\n",
        "**11. Explain what a random variable is and differentiate between discrete and continuous random variables.**  \n",
        "- **Random Variable**: A variable whose value depends on chance.  \n",
        "  - *Discrete*: Countable outcomes (e.g., number of students).  \n",
        "  - *Continuous*: Measurable outcomes (e.g., time, height).\n",
        "\n",
        "\n",
        "\n",
        "**12. Provide an example dataset, calculate both covariance and correlation, and interpret the results.**  \n",
        "*Example*:  \n",
        "X = [1, 2, 3], Y = [2, 4, 6]  \n",
        "- **Covariance** = 2 (positive relationship)  \n",
        "- **Correlation** = 1 (perfect positive linear relationship)  \n",
        "Interpretation: As X increases, Y increases proportionally.\n",
        "\n",
        "\n"
      ],
      "metadata": {
        "id": "IKXyKseK-5lG"
      }
    },
    {
      "cell_type": "code",
      "execution_count": null,
      "metadata": {
        "id": "jwOwpyDs97q1"
      },
      "outputs": [],
      "source": []
    }
  ]
}